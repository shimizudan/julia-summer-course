{
  "cells": [
    {
      "cell_type": "markdown",
      "id": "cb656753",
      "metadata": {
        "id": "cb656753"
      },
      "source": [
        "# 高校数学とJulia言語 Day 2\n",
        "\n",
        "- 城北中学校・高等学校　中学3年・高校1年\n",
        "- 夏期講習会III 2025/8/24～2025/8/28\n",
        "- 担当：清水団\n",
        "\n",
        "## 本日のテーマ：関数を定義してグラフを描こう！\n",
        "\n",
        "### 5日間の学習予定\n",
        "- **Day 1**：Google Colabの紹介・基本計算 ✅\n",
        "- **Day 2**：関数のグラフの描画 ← 今日\n",
        "- **Day 3**：最適化（最大・最小）\n",
        "- **Day 4**：データの分析\n",
        "- **Day 5**：確率・シミュレーション\n"
      ]
    },
    {
      "cell_type": "markdown",
      "id": "e0514a00",
      "metadata": {
        "id": "e0514a00"
      },
      "source": [
        "## Julia言語での関数の定義\n",
        "\n",
        "Julia言語では、関数を定義する方法がいくつかあります。\n",
        "\n",
        "### 1. 基本的な関数定義\n",
        "\n",
        "```julia\n",
        "function 関数名(引数)\n",
        "    # 処理\n",
        "    return 戻り値\n",
        "end\n",
        "```\n",
        "\n",
        "### 2. 短縮形での関数定義\n",
        "\n",
        "```julia\n",
        "関数名(引数) = 式\n",
        "```\n",
        "\n",
        "数学の関数と同じように書けるので、とても直感的です！\n"
      ]
    },
    {
      "cell_type": "markdown",
      "id": "function_examples",
      "metadata": {
        "id": "function_examples"
      },
      "source": [
        "## 関数を定義してみよう！"
      ]
    },
    {
      "cell_type": "code",
      "execution_count": null,
      "id": "basic_function",
      "metadata": {
        "id": "basic_function"
      },
      "outputs": [],
      "source": [
        "# 1次関数 f(x) = 2x + 1\n",
        "f(x) = 2x + 1"
      ]
    },
    {
      "cell_type": "code",
      "execution_count": null,
      "id": "test_function",
      "metadata": {
        "id": "test_function"
      },
      "outputs": [],
      "source": [
        "# 関数の値を求めてみよう\n",
        "f(3)"
      ]
    },
    {
      "cell_type": "code",
      "execution_count": null,
      "id": "quadratic_function",
      "metadata": {
        "id": "quadratic_function"
      },
      "outputs": [],
      "source": [
        "# 2次関数 g(x) = x^2 - 3x + 2\n",
        "g(x) = x^2 - 3x + 2"
      ]
    },
    {
      "cell_type": "code",
      "execution_count": null,
      "id": "test_quadratic",
      "metadata": {
        "id": "test_quadratic"
      },
      "outputs": [],
      "source": [
        "# いくつかの値で計算してみよう\n",
        "@show g(0)\n",
        "@show g(1)\n",
        "@show g(2)\n",
        "@show g(3) #最後の計算が出力されます。"
      ]
    },
    {
      "cell_type": "code",
      "execution_count": null,
      "id": "trig_function",
      "metadata": {
        "id": "trig_function"
      },
      "outputs": [],
      "source": [
        "# 三角関数\n",
        "h(x) = sin(x) + cos(x)"
      ]
    },
    {
      "cell_type": "code",
      "execution_count": null,
      "id": "test_trig",
      "metadata": {
        "id": "test_trig"
      },
      "outputs": [],
      "source": [
        "# π/4 で計算してみよう\n",
        "@show h(π/4)\n",
        "@show sqrt(2)\n",
        "\n",
        " h(π/4) ≈ sqrt(2) #等しいかな？ ≈ でチェック"
      ]
    },
    {
      "cell_type": "markdown",
      "id": "plotting_setup",
      "metadata": {
        "id": "plotting_setup"
      },
      "source": [
        "## グラフを描くためのパッケージを読み込もう\n",
        "\n",
        "Julia言語でグラフを描くには、**Plots.jl**というパッケージを使います。\n",
        "\n",
        "初回だけインストールが必要です（時間がかかることがあります）。\n"
      ]
    },
    {
      "cell_type": "code",
      "execution_count": null,
      "id": "install_plots",
      "metadata": {
        "id": "install_plots"
      },
      "outputs": [],
      "source": [
        "# パッケージのインストール（初回のみ）\n",
        "# Google Colabではインストール済みなので省略します。\n",
        "# import Pkg\n",
        "# Pkg.add(\"Plots\")"
      ]
    },
    {
      "cell_type": "code",
      "execution_count": null,
      "id": "load_plots",
      "metadata": {
        "id": "load_plots"
      },
      "outputs": [],
      "source": [
        "# パッケージの読み込み\n",
        "# フォント設定（日本語ラベルのため）\n",
        "using Pkg\n",
        "Pkg.add(url=\"https://github.com/ujimushi/PlotsGRBackendFontJaEmoji.jl\")\n",
        "using PlotsGRBackendFontJaEmoji,Plots\n",
        "gr()\n"
      ]
    },
    {
      "cell_type": "markdown",
      "id": "first_plot",
      "metadata": {
        "id": "first_plot"
      },
      "source": [
        "## 最初のグラフを描いてみよう！\n",
        "\n",
        "基本的なグラフの描き方：\n",
        "\n",
        "```julia\n",
        "plot(関数)\n",
        "```\n",
        "\n",
        "\n",
        "```julia\n",
        "plot(関数, xlim=(0,10)) #x（横軸）の範囲を0≦x≦10に設定）\n",
        "```\n",
        "\n",
        "または\n",
        "\n",
        "```julia\n",
        "plot(関数, label=\"グラフの名前\",title=\"タイトル\")\n",
        "```\n",
        "\n",
        "\n",
        "```julia\n",
        "plot(関数,lw=2,color=:red ) # lw 線の太さ color 線の色\n",
        "```\n"
      ]
    },
    {
      "cell_type": "code",
      "execution_count": null,
      "id": "first_linear_plot",
      "metadata": {
        "id": "first_linear_plot"
      },
      "outputs": [],
      "source": [
        "# 1次関数 f(x) = 2x + 1 のグラフ\n",
        "plot(f)"
      ]
    },
    {
      "cell_type": "code",
      "execution_count": null,
      "id": "e27197a0",
      "metadata": {
        "id": "e27197a0"
      },
      "outputs": [],
      "source": [
        "\n",
        "plot(f, xlim=(-10,10),label=\"f(x) = 2x + 1\", title=\"1次関数のグラフ\",linewidth=2)"
      ]
    },
    {
      "cell_type": "code",
      "execution_count": null,
      "id": "quadratic_plot",
      "metadata": {
        "id": "quadratic_plot"
      },
      "outputs": [],
      "source": [
        "# 2次関数 g(x) = x^2 - 3x + 2 のグラフ\n",
        "plot(g)"
      ]
    },
    {
      "cell_type": "code",
      "execution_count": null,
      "id": "24157e5c",
      "metadata": {
        "id": "24157e5c"
      },
      "outputs": [],
      "source": [
        "plot(g, -1:0.1:4, label=\"g(x) = x² - 3x + 2\",  title=\"2次関数のグラフ\",linewidth=2, color=:red)\n"
      ]
    },
    {
      "cell_type": "markdown",
      "id": "multiple_plots",
      "metadata": {
        "id": "multiple_plots"
      },
      "source": [
        "## 複数のグラフを重ねて描こう！\n",
        "\n",
        "`plot!()`を使うと、既存のグラフに新しいグラフを追加できます。\n"
      ]
    },
    {
      "cell_type": "code",
      "execution_count": null,
      "id": "multiple_functions",
      "metadata": {
        "id": "multiple_functions"
      },
      "outputs": [],
      "source": [
        "# 複数の1次関数を比較\n",
        "f1(x) = x\n",
        "f2(x) = 2x\n",
        "f3(x) = -x + 3\n",
        "\n",
        "plot(f1, label=\"y = x\", linewidth=2)\n",
        "plot!(f2, label=\"y = 2x\", linewidth=2)\n",
        "plot!(f3, label=\"y = -x + 3\", linewidth=2)\n",
        "title!(\"1次関数の比較\")\n",
        "xlabel!(\"x\")\n",
        "ylabel!(\"y\")"
      ]
    },
    {
      "cell_type": "code",
      "execution_count": null,
      "id": "parabola_family",
      "metadata": {
        "id": "parabola_family"
      },
      "outputs": [],
      "source": [
        "# 2次関数のファミリー\n",
        "p1(x) = x^2\n",
        "p2(x) = 2x^2\n",
        "p3(x) = -x^2\n",
        "p4(x) = x^2 + 2x + 1\n",
        "\n",
        "plot(p1, label=\"y = x²\", linewidth=2)\n",
        "plot!(p2, label=\"y = 2x²\", linewidth=2)\n",
        "plot!(p3, label=\"y = -x²\", linewidth=2)\n",
        "plot!(p4, label=\"y = x² + 2x + 1\", linewidth=2)\n",
        "title!(\"2次関数のファミリー\")\n",
        "xlabel!(\"x\")\n",
        "ylabel!(\"y\")"
      ]
    },
    {
      "cell_type": "markdown",
      "id": "trigonometric_plots",
      "metadata": {
        "id": "trigonometric_plots"
      },
      "source": [
        "## 三角関数のグラフを描こう！\n",
        "\n",
        "三角関数は周期的な現象を表現するのに重要な関数です。\n"
      ]
    },
    {
      "cell_type": "code",
      "execution_count": null,
      "id": "basic_trig",
      "metadata": {
        "id": "basic_trig"
      },
      "outputs": [],
      "source": [
        "# 基本的な三角関数\n",
        "plot(sin, xlim=(-2π,2π), label=\"y = sin(x)\", linewidth=2)\n",
        "plot!(cos, xlim=(-2π,2π), label=\"y = cos(x)\", linewidth=2)\n",
        "title!(\"三角関数のグラフ\")\n",
        "xlabel!(\"x\")\n",
        "ylabel!(\"y\")"
      ]
    },
    {
      "cell_type": "code",
      "execution_count": null,
      "id": "modified_trig",
      "metadata": {
        "id": "modified_trig"
      },
      "outputs": [],
      "source": [
        "# 振幅や周期を変えた三角関数\n",
        "s1(x) = sin(x)\n",
        "s2(x) = 2sin(x)        # 振幅2倍\n",
        "s3(x) = sin(2x)        # 周期1/2倍\n",
        "s4(x) = sin(x + π/4)   # 位相をπ/4ずらす\n",
        "\n",
        "plot(s1, xlim=(-2π,2π), label=\"y = sin(x)\", linewidth=2)\n",
        "plot!(s2, xlim=(-2π,2π), label=\"y = 2sin(x)\", linewidth=2)\n",
        "plot!(s3, xlim=(-2π,2π), label=\"y = sin(2x)\", linewidth=2)\n",
        "plot!(s4, xlim=(-2π,2π), label=\"y = sin(x + π/4)\", linewidth=2)\n",
        "title!(\"三角関数の変形\")\n",
        "xlabel!(\"x\")\n",
        "ylabel!(\"y\")"
      ]
    },
    {
      "cell_type": "markdown",
      "id": "exponential_plots",
      "metadata": {
        "id": "exponential_plots"
      },
      "source": [
        "## 指数関数・対数関数のグラフ\n",
        "\n",
        "指数関数と対数関数は互いに逆関数の関係にあります。\n"
      ]
    },
    {
      "cell_type": "code",
      "execution_count": null,
      "id": "exponential_log",
      "metadata": {
        "id": "exponential_log"
      },
      "outputs": [],
      "source": [
        "# 指数関数と対数関数\n",
        "e1(x) = 2^x\n",
        "e2(x) = exp(x)    # e^x\n",
        "l1(x) = log(2, x) # log₂(x)\n",
        "l2(x) = log(x)    # 自然対数 ln(x)\n",
        "\n",
        "plot(e1, xlim=(-3,3), label=\"y = 2ˣ\", linewidth=2)\n",
        "plot!(e2, xlim=(-3,3), label=\"y = eˣ\", linewidth=2)\n",
        "plot!(l1, xlim=(0.1,8), label=\"y = log₂(x)\", linewidth=2)\n",
        "plot!(l2, xlim=(0.1,8), label=\"y = ln(x)\", linewidth=2)\n",
        "title!(\"指数関数と対数関数\")\n",
        "xlabel!(\"x\")\n",
        "ylabel!(\"y\")"
      ]
    },
    {
      "cell_type": "markdown",
      "id": "advanced_functions",
      "metadata": {
        "id": "advanced_functions"
      },
      "source": [
        "## 複雑な関数のグラフ\n",
        "\n",
        "複数の関数を組み合わせて、より複雑な関数を作ることもできます。\n"
      ]
    },
    {
      "cell_type": "code",
      "execution_count": null,
      "id": "complex_functions",
      "metadata": {
        "id": "complex_functions"
      },
      "outputs": [],
      "source": [
        "# 3次関数の例\n",
        "complex1(x) = x^3 - 3x^2 + 2x + 1\n",
        "\n",
        "plot(complex1, xlim=(-2,4), label=\"y = x³ - 3x² + 2x + 1\", linewidth=2)\n",
        "title!(\"3次関数\")\n",
        "xlabel!(\"x\")\n",
        "ylabel!(\"y\")"
      ]
    },
    {
      "cell_type": "code",
      "execution_count": null,
      "id": "damped_oscillation",
      "metadata": {
        "id": "damped_oscillation"
      },
      "outputs": [],
      "source": [
        "# 減衰振動\n",
        "complex2(x) = sin(x) * exp(-x/5)\n",
        "\n",
        "plot(complex2, xlim=(0,20), label=\"y = sin(x) × e^(-x/5)\", linewidth=2, color=:red)\n",
        "title!(\"減衰振動\")\n",
        "xlabel!(\"x\")\n",
        "ylabel!(\"y\")"
      ]
    },
    {
      "cell_type": "code",
      "execution_count": null,
      "id": "absolute_sine",
      "metadata": {
        "id": "absolute_sine"
      },
      "outputs": [],
      "source": [
        "# 絶対値を含む関数\n",
        "complex3(x) = abs(x) * sin(x)\n",
        "\n",
        "plot(complex3, xlim=(-3π,3π), label=\"y = |x| × sin(x)\", linewidth=2, color=:green)\n",
        "title!(\"絶対値を含む関数\")\n",
        "xlabel!(\"x\")\n",
        "ylabel!(\"y\")"
      ]
    },
    {
      "cell_type": "markdown",
      "id": "exercises",
      "metadata": {
        "id": "exercises"
      },
      "source": [
        "## Day 2 の演習問題\n",
        "\n",
        "以下の問題に取り組んでみましょう。関数を定義してグラフを描き、特徴を観察してください。\n",
        "\n",
        "### 問題1: 2次関数の分析\n",
        "\n",
        "2次関数 $f(x) = x^2 - 4x + 3$ について：\n",
        "\n",
        "1. 関数を定義してグラフを描いてください（$-1 \\leq x \\leq 5$）\n",
        "2. 頂点の座標を求めてください（計算とグラフの両方で確認）\n",
        "3. x切片（根）を求めてください\n",
        "\n",
        "### 問題2: 三角関数の合成\n",
        "\n",
        "関数 $g(x) = \\sin(x) + \\cos(x)$ について：\n",
        "\n",
        "1. 関数を定義してグラフを描いてください（$-2\\pi \\leq x \\leq 2\\pi$）\n",
        "2. 最大値と最小値を予想してください\n",
        "3. 周期を調べてください\n",
        "\n",
        "### 問題3: 自由課題\n",
        "\n",
        "自分で面白い関数を作ってグラフを描いてみてください。例：\n",
        "\n",
        "- 複数の関数の積や和\n",
        "- 絶対値を含む関数\n",
        "- 区間ごとに定義が異なる関数\n",
        "\n",
        "どのような特徴があるか観察してみましょう！\n"
      ]
    },
    {
      "cell_type": "markdown",
      "id": "homework_section",
      "metadata": {
        "id": "homework_section"
      },
      "source": [
        "## 解答欄\n",
        "\n",
        "以下のセルに解答を記入してください。\n"
      ]
    },
    {
      "cell_type": "markdown",
      "id": "answer1_title",
      "metadata": {
        "id": "answer1_title"
      },
      "source": [
        "### 問題1の解答"
      ]
    },
    {
      "cell_type": "code",
      "execution_count": null,
      "id": "answer1_code",
      "metadata": {
        "id": "answer1_code"
      },
      "outputs": [],
      "source": [
        "# 問題1: 2次関数の分析\n",
        "# ここに解答を書いてください\n",
        "\n",
        "\n",
        "\n"
      ]
    },
    {
      "cell_type": "markdown",
      "id": "answer2_title",
      "metadata": {
        "id": "answer2_title"
      },
      "source": [
        "### 問題2の解答"
      ]
    },
    {
      "cell_type": "code",
      "execution_count": null,
      "id": "answer2_code",
      "metadata": {
        "id": "answer2_code"
      },
      "outputs": [],
      "source": [
        "# 問題2: 三角関数の合成\n",
        "# ここに解答を書いてください\n",
        "\n",
        "\n",
        "\n"
      ]
    },
    {
      "cell_type": "markdown",
      "id": "answer3_title",
      "metadata": {
        "id": "answer3_title"
      },
      "source": [
        "### 問題3の解答"
      ]
    },
    {
      "cell_type": "code",
      "execution_count": null,
      "id": "answer3_code",
      "metadata": {
        "id": "answer3_code"
      },
      "outputs": [],
      "source": [
        "# 問題3: 自由課題\n",
        "# ここに解答を書いてください\n",
        "\n",
        "\n"
      ]
    },
    {
      "cell_type": "markdown",
      "id": "conclusion",
      "metadata": {
        "id": "conclusion"
      },
      "source": [
        "## まとめ\n",
        "\n",
        "今日は以下のことを学びました：\n",
        "\n",
        "- Julia言語での関数の定義方法\n",
        "- Plots.jlを使ったグラフの描画\n",
        "- 1次関数、2次関数、三角関数、指数関数のグラフ\n",
        "- 複数のグラフを重ねて描く方法\n",
        "- 複雑な関数のグラフ\n",
        "\n",
        "### 関数とグラフの重要性\n",
        "\n",
        "関数のグラフを描くことで、数式だけでは見えない性質を視覚的に理解できます：\n",
        "\n",
        "- **増減の様子**：関数がどこで増加・減少するか\n",
        "- **最大値・最小値**：関数の極値の位置\n",
        "- **周期性**：三角関数などの繰り返しパターン\n",
        "- **対称性**：関数の対称軸や中心\n",
        "\n",
        "### 次回予告\n",
        "\n",
        "Day 3では、最適化（最大・最小）について学習します。関数の最大値や最小値を求める方法を学び、実際の問題に応用してみましょう！\n",
        "\n",
        "### 提出について\n",
        "\n",
        "このノートブックに解答を記入し、保存してからGoogle Classroomに提出してください。\n"
      ]
    }
  ],
  "metadata": {
    "colab": {
      "provenance": []
    },
    "kernelspec": {
      "display_name": "Julia",
      "name": "julia"
    },
    "language_info": {
      "name": "julia"
    }
  },
  "nbformat": 4,
  "nbformat_minor": 5
}