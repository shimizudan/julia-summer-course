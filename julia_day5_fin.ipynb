{
  "cells": [
    {
      "cell_type": "markdown",
      "id": "header",
      "metadata": {
        "id": "header"
      },
      "source": [
        "# 高校数学とJulia言語 Day 5\n",
        "\n",
        "- 城北中学校・高等学校　中学3年・高校1年\n",
        "- 夏期講習会III 2025/8/24~2025/8/28\n",
        "- 担当：清水団\n",
        "\n",
        "## 本日のテーマ：確率とシミュレーション\n",
        "\n",
        "### 5日間の学習予定\n",
        "- **Day 1**：Google Colabの紹介・基本計算 ✅\n",
        "- **Day 2**：関数のグラフの描画 ✅\n",
        "- **Day 3**：最適化（最大・最小） ✅\n",
        "- **Day 4**：データの分析 ✅\n",
        "- **Day 5**：確率・シミュレーション ← 今日\n",
        "\n",
        "今日は確率の世界をJuliaで体験し、シミュレーションで理論を確かめてみましょう！\n"
      ]
    },
    {
      "cell_type": "markdown",
      "id": "introduction",
      "metadata": {
        "id": "introduction"
      },
      "source": [
        "## 確率とシミュレーションの重要性\n",
        "\n",
        "確率とシミュレーションは現代社会の様々な分野で活用されています：\n",
        "\n",
        "- **天気予報**：降水確率の計算\n",
        "- **保険**：事故や病気のリスク評価\n",
        "- **スポーツ**：勝率の予測、戦略の最適化\n",
        "- **経済**：株価の変動予測、リスク管理\n",
        "- **ゲーム**：確率の計算、戦略の分析\n",
        "- **医療**：薬の効果や副作用の評価\n",
        "\n",
        "シミュレーションを使うことで、実際に何度も実験を行わなくても確率的な現象を理解できます。\n"
      ]
    },
    {
      "cell_type": "markdown",
      "id": "package_setup",
      "metadata": {
        "id": "package_setup"
      },
      "source": [
        "## 必要なパッケージの準備\n",
        "\n",
        "確率とシミュレーションに必要なパッケージを読み込みましょう。\n"
      ]
    },
    {
      "cell_type": "code",
      "execution_count": null,
      "id": "b9b451c5",
      "metadata": {
        "id": "b9b451c5"
      },
      "outputs": [],
      "source": [
        "# パッケージのインストール（初回のみ実行）\n",
        "import Pkg\n",
        "Pkg.add([\"Statistics\", \"StatsBase\", \"Random\"])"
      ]
    },
    {
      "cell_type": "code",
      "execution_count": null,
      "id": "load_packages",
      "metadata": {
        "id": "load_packages"
      },
      "outputs": [],
      "source": [
        "# パッケージの読み込み\n",
        "using Plots\n",
        "using Random           # 乱数生成\n",
        "using Statistics       # 統計関数\n",
        "using StatsBase        # 統計分析\n",
        "\n",
        "# フォント設定（日本語ラベルのため）\n",
        "using Pkg\n",
        "Pkg.add(url=\"https://github.com/ujimushi/PlotsGRBackendFontJaEmoji.jl\")\n",
        "using PlotsGRBackendFontJaEmoji\n",
        "gr()\n",
        "\n",
        "# 乱数のシードを設定（結果を再現可能にする）\n",
        "Random.seed!(42)\n",
        "\n",
        "println(\"パッケージの読み込み完了！\")"
      ]
    },
    {
      "cell_type": "markdown",
      "id": "basic_probability",
      "metadata": {
        "id": "basic_probability"
      },
      "source": [
        "## 基本的な確率シミュレーション\n",
        "\n",
        "### 問題1：コイン投げのシミュレーション\n",
        "\n",
        "まずは最も基本的なコイン投げから始めてみましょう。理論的には表が出る確率は0.5ですが、実際はどうでしょうか？\n"
      ]
    },
    {
      "cell_type": "code",
      "execution_count": null,
      "id": "coin_flip",
      "metadata": {
        "id": "coin_flip"
      },
      "outputs": [],
      "source": [
        "# コイン投げの関数を定義\n",
        "function coin_flip()\n",
        "    return rand() < 0.5 ? \"表\" : \"裏\"\n",
        "end\n",
        "\n",
        "# 10回投げてみる\n",
        "println(\"10回のコイン投げ：\")\n",
        "for i in 1:10\n",
        "    result = coin_flip()\n",
        "    println(\"$(i)回目: $(result)\")\n",
        "end"
      ]
    },
    {
      "cell_type": "code",
      "execution_count": null,
      "id": "coin_simulation",
      "metadata": {
        "id": "coin_simulation"
      },
      "outputs": [],
      "source": [
        "# 大量のコイン投げをシミュレーション\n",
        "function simulate_coin_flips(n)\n",
        "    heads_count = 0\n",
        "    for i in 1:n\n",
        "        if rand() < 0.5\n",
        "            heads_count += 1\n",
        "        end\n",
        "    end\n",
        "    return heads_count / n\n",
        "end\n",
        "\n",
        "# 異なる回数でシミュレーション\n",
        "trials = [10, 100, 1000, 10000, 100000]\n",
        "results = []\n",
        "\n",
        "println(\"コイン投げシミュレーション結果：\")\n",
        "for n in trials\n",
        "    prob = simulate_coin_flips(n)\n",
        "    push!(results, prob)\n",
        "    println(\"$(n)回投げて表が出る確率: $(round(prob, digits=4))\")\n",
        "end\n",
        "\n",
        "println(\"理論値: 0.5\")"
      ]
    },
    {
      "cell_type": "code",
      "execution_count": null,
      "id": "coin_convergence",
      "metadata": {
        "id": "coin_convergence"
      },
      "outputs": [],
      "source": [
        "# 確率の収束を可視化\n",
        "n_max = 1000\n",
        "cumulative_prob = []\n",
        "heads_count = 0\n",
        "\n",
        "for i in 1:n_max\n",
        "    if rand() < 0.5\n",
        "        heads_count += 1\n",
        "    end\n",
        "    push!(cumulative_prob, heads_count / i)\n",
        "end\n",
        "\n",
        "# グラフを描画\n",
        "plot(1:n_max, cumulative_prob,\n",
        "     title=\"コイン投げの確率の収束\",\n",
        "     xlabel=\"試行回数\",\n",
        "     ylabel=\"表が出る確率\",\n",
        "     color=:blue, linewidth=2, label=\"シミュレーション結果\")\n",
        "\n",
        "# 理論値の線を追加\n",
        "hline!([0.5], color=:red, linewidth=3, linestyle=:dash, label=\"理論値 (0.5)\")\n",
        "\n",
        "# 信頼区間を追加（参考）\n",
        "hline!([0.45, 0.55], color=:gray, alpha=0.5, label=\"参考範囲\")"
      ]
    },
    {
      "cell_type": "markdown",
      "id": "dice_simulation",
      "metadata": {
        "id": "dice_simulation"
      },
      "source": [
        "## サイコロのシミュレーション\n",
        "\n",
        "### 問題2：サイコロの目の分布\n",
        "\n",
        "公正なサイコロなら、各目が出る確率は1/6 ≈ 0.167のはずです。実際にシミュレーションで確かめてみましょう。\n"
      ]
    },
    {
      "cell_type": "code",
      "execution_count": null,
      "id": "dice_roll",
      "metadata": {
        "id": "dice_roll"
      },
      "outputs": [],
      "source": [
        "# サイコロを振る関数\n",
        "function roll_dice()\n",
        "    return rand(1:6)\n",
        "end\n",
        "\n",
        "# 大量にサイコロを振る\n",
        "n_rolls = 6000\n",
        "dice_results = [roll_dice() for _ in 1:n_rolls]\n",
        "\n",
        "# 各目の出現回数を数える\n",
        "counts = [sum(dice_results .== i) for i in 1:6]\n",
        "probabilities = counts ./ n_rolls\n",
        "\n",
        "println(\"サイコロシミュレーション結果 ($(n_rolls)回)：\")\n",
        "for i in 1:6\n",
        "    println(\"$(i)の目: $(counts[i])回 (確率: $(round(probabilities[i], digits=3)))\")\n",
        "end\n",
        "println(\"理論値: 各目 1/6 ≈ 0.167\")"
      ]
    },
    {
      "cell_type": "code",
      "execution_count": null,
      "id": "dice_histogram",
      "metadata": {
        "id": "dice_histogram"
      },
      "outputs": [],
      "source": [
        "# サイコロの結果をヒストグラムで表示\n",
        "histogram(dice_results, bins=0.5:1:6.5,\n",
        "         title=\"サイコロの目の分布 ($(n_rolls)回)\",\n",
        "         xlabel=\"サイコロの目\",\n",
        "         ylabel=\"出現回数\",\n",
        "         color=:orange,\n",
        "         alpha=0.7,\n",
        "         label=\"シミュレーション結果\")\n",
        "\n",
        "# 理論値の線を追加\n",
        "hline!([n_rolls/6], color=:red, linewidth=3, linestyle=:dash, label=\"理論値 ($(round(n_rolls/6)))\")"
      ]
    },
    {
      "cell_type": "markdown",
      "id": "two_dice_sum",
      "metadata": {
        "id": "two_dice_sum"
      },
      "source": [
        "### 問題3：2つのサイコロの和\n",
        "\n",
        "2つのサイコロを振って、その和を調べてみましょう。どの数字が最も出やすいでしょうか？\n"
      ]
    },
    {
      "cell_type": "code",
      "execution_count": null,
      "id": "two_dice",
      "metadata": {
        "id": "two_dice"
      },
      "outputs": [],
      "source": [
        "# 2つのサイコロの和をシミュレーション\n",
        "n_rolls = 10000\n",
        "sums = []\n",
        "\n",
        "for _ in 1:n_rolls\n",
        "    dice1 = roll_dice()\n",
        "    dice2 = roll_dice()\n",
        "    push!(sums, dice1 + dice2)\n",
        "end\n",
        "\n",
        "# 理論的な確率を計算\n",
        "theoretical_probs = Dict(\n",
        "    2 => 1/36, 3 => 2/36, 4 => 3/36, 5 => 4/36, 6 => 5/36, 7 => 6/36,\n",
        "    8 => 5/36, 9 => 4/36, 10 => 3/36, 11 => 2/36, 12 => 1/36\n",
        ")\n",
        "\n",
        "println(\"2つのサイコロの和の分布：\")\n",
        "for s in 2:12\n",
        "    count = sum(sums .== s)\n",
        "    simulated_prob = count / n_rolls\n",
        "    theoretical_prob = theoretical_probs[s]\n",
        "    println(\"和=$(s): 実験=$(round(simulated_prob, digits=3)), 理論=$(round(theoretical_prob, digits=3))\")\n",
        "end"
      ]
    },
    {
      "cell_type": "code",
      "execution_count": null,
      "id": "two_dice_plot",
      "metadata": {
        "id": "two_dice_plot"
      },
      "outputs": [],
      "source": [
        "# 2つのサイコロの和のヒストグラム\n",
        "histogram(sums, bins=1.5:1:12.5,\n",
        "         title=\"2つのサイコロの和の分布\",\n",
        "         xlabel=\"サイコロの和\",\n",
        "         ylabel=\"出現回数\",\n",
        "         color=:green,\n",
        "         alpha=0.7,\n",
        "         normalize=true,\n",
        "         label=\"シミュレーション結果\")\n",
        "\n",
        "# 理論値をプロット\n",
        "theoretical_x = 2:12\n",
        "theoretical_y = [theoretical_probs[s] for s in theoretical_x]\n",
        "plot!(theoretical_x, theoretical_y,\n",
        "      color=:red, linewidth=3, marker=:circle, markersize=6,\n",
        "      label=\"理論値\")"
      ]
    },
    {
      "cell_type": "markdown",
      "id": "birthday_paradox",
      "metadata": {
        "id": "birthday_paradox"
      },
      "source": [
        "## 誕生日のパラドックス\n",
        "\n",
        "### 問題4：クラスに同じ誕生日の人がいる確率\n",
        "\n",
        "「30人のクラスで、同じ誕生日の人が2人以上いる確率は？」\n",
        "直感では低そうですが、実際は驚くべき結果になります。\n"
      ]
    },
    {
      "cell_type": "code",
      "execution_count": null,
      "id": "birthday_function",
      "metadata": {
        "id": "birthday_function"
      },
      "outputs": [],
      "source": [
        "# 誕生日の重複をチェックする関数\n",
        "function has_birthday_collision(n_people)\n",
        "    birthdays = rand(1:365, n_people)  # 1-365の誕生日をランダムに生成\n",
        "    return length(unique(birthdays)) < n_people  # 重複があればtrue\n",
        "end\n",
        "\n",
        "# 異なる人数での誕生日パラドックスをシミュレーション\n",
        "function birthday_paradox_simulation(n_people, n_trials=10000)\n",
        "    collisions = 0\n",
        "    for _ in 1:n_trials\n",
        "        if has_birthday_collision(n_people)\n",
        "            collisions += 1\n",
        "        end\n",
        "    end\n",
        "    return collisions / n_trials\n",
        "end\n",
        "\n",
        "# 様々な人数で実験\n",
        "people_counts = [10, 15, 20, 23, 25, 30, 35, 40, 50]\n",
        "probabilities = []\n",
        "\n",
        "println(\"誕生日パラドックスのシミュレーション結果：\")\n",
        "for n in people_counts\n",
        "    prob = birthday_paradox_simulation(n)\n",
        "    push!(probabilities, prob)\n",
        "    println(\"$(n)人: $(round(prob, digits=3))\")\n",
        "end"
      ]
    },
    {
      "cell_type": "code",
      "execution_count": null,
      "id": "birthday_theory",
      "metadata": {
        "id": "birthday_theory"
      },
      "outputs": [],
      "source": [
        "# 理論値の計算\n",
        "function birthday_theory(n)\n",
        "    if n > 365\n",
        "        return 1.0\n",
        "    end\n",
        "\n",
        "    prob_no_collision = 1.0\n",
        "    for i in 0:(n-1)\n",
        "        prob_no_collision *= (365 - i) / 365\n",
        "    end\n",
        "\n",
        "    return 1 - prob_no_collision\n",
        "end\n",
        "\n",
        "# 理論値を計算\n",
        "theoretical_probs = [birthday_theory(n) for n in people_counts]\n",
        "\n",
        "println(\"\\n理論値との比較：\")\n",
        "for i in 1:length(people_counts)\n",
        "    n = people_counts[i]\n",
        "    sim = probabilities[i]\n",
        "    theory = theoretical_probs[i]\n",
        "    println(\"$(n)人: シミュレーション=$(round(sim, digits=3)), 理論=$(round(theory, digits=3))\")\n",
        "end"
      ]
    },
    {
      "cell_type": "code",
      "execution_count": null,
      "id": "birthday_plot",
      "metadata": {
        "id": "birthday_plot"
      },
      "outputs": [],
      "source": [
        "# 誕生日パラドックスの可視化\n",
        "plot(people_counts, probabilities,\n",
        "     marker=:circle, markersize=6, linewidth=2, color=:blue,\n",
        "     title=\"誕生日パラドックス\",\n",
        "     xlabel=\"クラスの人数\",\n",
        "     ylabel=\"同じ誕生日の人がいる確率\",\n",
        "     label=\"シミュレーション結果\")\n",
        "\n",
        "plot!(people_counts, theoretical_probs,\n",
        "      linewidth=3, color=:red, linestyle=:dash,\n",
        "      label=\"理論値\")\n",
        "\n",
        "# 50%ラインを追加\n",
        "hline!([0.5], color=:gray, linestyle=:dot, alpha=0.7, label=\"50%ライン\")\n",
        "\n",
        "# 23人のポイントを強調\n",
        "scatter!([23], [birthday_theory(23)],\n",
        "         markersize=10, color=:orange,\n",
        "         label=\"23人 ($(round(birthday_theory(23)*100, digits=1))%)\")"
      ]
    },
    {
      "cell_type": "markdown",
      "id": "monte_carlo",
      "metadata": {
        "id": "monte_carlo"
      },
      "source": [
        "## モンテカルロ法による円周率の計算\n",
        "\n",
        "### 問題5：ランダムな点を使って円周率を求める\n",
        "\n",
        "モンテカルロ法は、ランダムな点を使って数値を近似する手法です。円周率πを計算してみましょう。\n"
      ]
    },
    {
      "cell_type": "code",
      "execution_count": null,
      "id": "monte_carlo_pi",
      "metadata": {
        "id": "monte_carlo_pi"
      },
      "outputs": [],
      "source": [
        "# モンテカルロ法でπを計算\n",
        "function estimate_pi(n_points)\n",
        "    inside_circle = 0\n",
        "\n",
        "    for _ in 1:n_points\n",
        "        x = rand() * 2 - 1  # -1から1の範囲\n",
        "        y = rand() * 2 - 1  # -1から1の範囲\n",
        "\n",
        "        # 原点からの距離が1以下なら円の内部\n",
        "        if x^2 + y^2 <= 1\n",
        "            inside_circle += 1\n",
        "        end\n",
        "    end\n",
        "\n",
        "    # π ≈ 4 × (円内の点の数) / (全体の点の数)\n",
        "    return 4 * inside_circle / n_points\n",
        "end\n",
        "\n",
        "# 異なる点数でπを推定\n",
        "point_counts = [100, 1000, 10000, 100000, 1000000]\n",
        "pi_estimates = []\n",
        "\n",
        "println(\"モンテカルロ法による円周率の推定：\")\n",
        "for n in point_counts\n",
        "    pi_est = estimate_pi(n)\n",
        "    push!(pi_estimates, pi_est)\n",
        "    error = abs(pi_est - π)\n",
        "    println(\"$(n)点: π ≈ $(round(pi_est, digits=4)), 誤差: $(round(error, digits=4))\")\n",
        "end\n",
        "\n",
        "println(\"真の値: π = $(round(π, digits=6))\")"
      ]
    },
    {
      "cell_type": "code",
      "execution_count": null,
      "id": "monte_carlo_visual",
      "metadata": {
        "id": "monte_carlo_visual"
      },
      "outputs": [],
      "source": [
        "# モンテカルロ法の可視化（少数の点で）\n",
        "n_points = 1000\n",
        "x_points = []\n",
        "y_points = []\n",
        "colors = []\n",
        "\n",
        "for _ in 1:n_points\n",
        "    x = rand() * 2 - 1\n",
        "    y = rand() * 2 - 1\n",
        "    push!(x_points, x)\n",
        "    push!(y_points, y)\n",
        "\n",
        "    # 円の内部なら青、外部なら赤\n",
        "    if x^2 + y^2 <= 1\n",
        "        push!(colors, :blue)\n",
        "    else\n",
        "        push!(colors, :red)\n",
        "    end\n",
        "end\n",
        "\n",
        "# 散布図をプロット\n",
        "scatter(x_points, y_points,\n",
        "        color=colors, markersize=2, alpha=0.6,\n",
        "        title=\"モンテカルロ法による円周率計算\",\n",
        "        xlabel=\"x\", ylabel=\"y\",\n",
        "        aspect_ratio=:equal,\n",
        "        label=\"ランダム点\")\n",
        "\n",
        "# 単位円を描画\n",
        "θ = 0:0.01:2π\n",
        "circle_x = cos.(θ)\n",
        "circle_y = sin.(θ)\n",
        "plot!(circle_x, circle_y, color=:black, linewidth=3, label=\"単位円\")\n",
        "\n",
        "# 正方形の枠を描画\n",
        "plot!([-1, 1, 1, -1, -1], [-1, -1, 1, 1, -1],\n",
        "      color=:black, linewidth=2, linestyle=:dash, label=\"正方形\")"
      ]
    },
    {
      "cell_type": "code",
      "execution_count": null,
      "id": "pi_convergence",
      "metadata": {
        "id": "pi_convergence"
      },
      "outputs": [],
      "source": [
        "# πの推定値の収束を可視化\n",
        "plot(point_counts, pi_estimates,\n",
        "     marker=:circle, markersize=6, linewidth=2, color=:green,\n",
        "     title=\"モンテカルロ法によるπの収束\",\n",
        "     xlabel=\"使用した点の数\",\n",
        "     ylabel=\"πの推定値\",\n",
        "     xscale=:log10,\n",
        "     label=\"推定値\")\n",
        "\n",
        "# 真のπの値を追加\n",
        "hline!([π], color=:red, linewidth=3, linestyle=:dash, label=\"真の値 π\")\n",
        "\n",
        "# 信頼区間を追加\n",
        "hline!([π-0.1, π+0.1], color=:gray, alpha=0.5, label=\"±0.1の範囲\")"
      ]
    },
    {
      "cell_type": "markdown",
      "id": "exercises",
      "metadata": {
        "id": "exercises"
      },
      "source": [
        "## Day 5 の演習問題\n",
        "\n",
        "以下の問題に取り組んで、確率とシミュレーションの理解を深めましょう。\n",
        "\n",
        "### 問題1: ジャンケンの確率\n",
        "\n",
        "ジャンケンで「あいこ」になる確率をシミュレーションで求めてください。\n",
        "\n",
        "1. ジャンケン関数を作成（グー=1, チョキ=2, パー=3）\n",
        "2. 10000回のジャンケンをシミュレーション\n",
        "3. あいこになる確率を計算\n",
        "4. 理論値（1/3）と比較\n",
        "\n",
        "### 問題2: 3つのサイコロの最大値\n",
        "\n",
        "3つのサイコロを同時に振って、最大の目が6になる確率を求めてください。\n",
        "\n",
        "1. 3つのサイコロを振るシミュレーション関数を作成\n",
        "2. 最大値が6になる場合をカウント\n",
        "3. ヒストグラムで最大値の分布を可視化\n",
        "4. 理論値と比較（ヒント：最大値が6になるのは、少なくとも1つが6の場合）\n",
        "\n",
        "### 問題3: 自由課題\n",
        "\n",
        "以下のいずれかの問題を選んで解いてください：\n",
        "\n",
        "**A. モンティ・ホール問題**\n",
        "- 3つの扉のうち1つに当たりがある\n",
        "- 1つ選んだ後、ホストがハズレの扉を1つ開ける\n",
        "- 選択を変更する戦略と変更しない戦略の勝率を比較\n",
        "\n",
        "**B. ランダムウォーク**\n",
        "- 原点から始まって、毎ステップ±1の移動をランダムに行う\n",
        "- 1000ステップ後の位置の分布を調べる\n",
        "- 複数回のシミュレーションで軌跡を可視化\n",
        "\n",
        "**C. オリジナル問題**\n",
        "- 自分で面白い確率問題を考えて解く\n",
        "- 例：宝くじ、スポーツの勝敗予測、ゲームの確率など\n"
      ]
    },
    {
      "cell_type": "markdown",
      "id": "answer_section",
      "metadata": {
        "id": "answer_section"
      },
      "source": [
        "## 解答欄\n",
        "\n",
        "以下のセルに解答を記入してください。\n"
      ]
    },
    {
      "cell_type": "markdown",
      "id": "answer1_title",
      "metadata": {
        "id": "answer1_title"
      },
      "source": [
        "### 問題1の解答：ジャンケンの確率"
      ]
    },
    {
      "cell_type": "code",
      "execution_count": null,
      "id": "answer1_code",
      "metadata": {
        "id": "answer1_code"
      },
      "outputs": [],
      "source": [
        "# 問題1: ジャンケンの確率\n",
        "# ジャンケンで「あいこ」になる確率をシミュレーションで求めてください。\n",
        "# 1. ジャンケン関数を作成（グー=1, チョキ=2, パー=3）\n"
      ]
    },
    {
      "cell_type": "code",
      "execution_count": null,
      "id": "3b0c8a49",
      "metadata": {
        "id": "3b0c8a49"
      },
      "outputs": [],
      "source": [
        "# 2. 10000回のジャンケンをシミュレーション\n"
      ]
    },
    {
      "cell_type": "code",
      "execution_count": null,
      "id": "aebdd7f9",
      "metadata": {
        "id": "aebdd7f9"
      },
      "outputs": [],
      "source": [
        "# 3. あいこになる確率を計算\n"
      ]
    },
    {
      "cell_type": "code",
      "execution_count": null,
      "id": "d2ff2922",
      "metadata": {
        "id": "d2ff2922"
      },
      "outputs": [],
      "source": [
        "# 4. 理論値（1/3）と比較\n"
      ]
    },
    {
      "cell_type": "markdown",
      "id": "answer2_title",
      "metadata": {
        "id": "answer2_title"
      },
      "source": [
        "### 問題2の解答：3つのサイコロの最大値"
      ]
    },
    {
      "cell_type": "code",
      "execution_count": null,
      "id": "answer2_code",
      "metadata": {
        "id": "answer2_code"
      },
      "outputs": [],
      "source": [
        "# 問題2: 3つのサイコロの最大値\n",
        "# 3つのサイコロを同時に振って、最大の目が6になる確率を求めてください。\n",
        "\n",
        "# 1. 3つのサイコロを振るシミュレーション関数を作成\n"
      ]
    },
    {
      "cell_type": "code",
      "execution_count": null,
      "id": "bf0800bd",
      "metadata": {
        "id": "bf0800bd"
      },
      "outputs": [],
      "source": [
        "# 2. 最大値が6になる場合をカウント\n"
      ]
    },
    {
      "cell_type": "code",
      "execution_count": null,
      "id": "039bcbc9",
      "metadata": {
        "id": "039bcbc9"
      },
      "outputs": [],
      "source": [
        "# 3. ヒストグラムで最大値の分布を可視化\n",
        "\n"
      ]
    },
    {
      "cell_type": "code",
      "execution_count": null,
      "id": "9afecd50",
      "metadata": {
        "id": "9afecd50"
      },
      "outputs": [],
      "source": [
        "# 4. 理論値と比較（ヒント：最大値が6になるのは、少なくとも1つが6の場合）\n"
      ]
    },
    {
      "cell_type": "markdown",
      "id": "answer3_title",
      "metadata": {
        "id": "answer3_title"
      },
      "source": [
        "### 問題3の解答：自由課題"
      ]
    },
    {
      "cell_type": "code",
      "execution_count": null,
      "id": "answer3_code",
      "metadata": {
        "id": "answer3_code"
      },
      "outputs": [],
      "source": [
        "# 問題3: 自由課題\n",
        "# ここに解答を書いてください\n",
        "\n",
        "# **A. モンティ・ホール問題**\n",
        "# - 3つの扉のうち1つに当たりがある\n",
        "# - 1つ選んだ後、ホストがハズレの扉を1つ開ける\n",
        "# - 選択を変更する戦略と変更しない戦略の勝率を比較\n",
        "\n",
        "\n",
        "\n"
      ]
    },
    {
      "cell_type": "code",
      "execution_count": null,
      "id": "dd0d025f",
      "metadata": {
        "id": "dd0d025f"
      },
      "outputs": [],
      "source": [
        "# **B. ランダムウォーク**\n",
        "# - 原点から始まって、毎ステップ±1の移動をランダムに行う\n",
        "# - 1000ステップ後の位置の分布を調べる\n",
        "# - 複数回のシミュレーションで軌跡を可視化\n"
      ]
    },
    {
      "cell_type": "code",
      "execution_count": null,
      "id": "409011cf",
      "metadata": {
        "id": "409011cf"
      },
      "outputs": [],
      "source": [
        "# **C. オリジナル問題**\n",
        "# - 自分で面白い確率問題を考えて解く\n",
        "# - 例：宝くじ、スポーツの勝敗予測、ゲームの確率など"
      ]
    },
    {
      "cell_type": "markdown",
      "id": "conclusion",
      "metadata": {
        "id": "conclusion"
      },
      "source": [
        "## まとめ\n",
        "\n",
        "5日間の「高校数学とJulia言語」講習会の最終日、お疲れさまでした！\n",
        "\n",
        "### 今日学習した内容\n",
        "\n",
        "#### 確率の基本\n",
        "- **コイン投げ**：基本的な確率シミュレーション\n",
        "- **サイコロ**：等確率事象の検証\n",
        "- **確率の収束**：大数の法則の実体験\n",
        "\n",
        "#### 応用的な確率問題\n",
        "- **2つのサイコロの和**：複合事象の分析\n",
        "- **誕生日パラドックス**：直感に反する確率現象\n",
        "- **モンテカルロ法**：ランダムサンプリングによる数値計算\n",
        "\n",
        "#### シミュレーションの威力\n",
        "- 理論計算が困難な問題でも近似解が得られる\n",
        "- 直感と理論の違いを実際に確かめられる\n",
        "- 大量のデータで統計的な性質を理解できる\n",
        "\n",
        "### 5日間の総復習\n",
        "\n",
        "#### **Day 1**: Julia言語の基礎\n",
        "- Google Colabの使い方\n",
        "- 基本的な計算と数学関数\n",
        "- 変数と数式の計算\n",
        "\n",
        "#### **Day 2**: 関数とグラフ\n",
        "- 関数の定義方法\n",
        "- 様々な関数のグラフ描画\n",
        "- 複数のグラフの比較と分析\n",
        "\n",
        "#### **Day 3**: 最適化\n",
        "- 関数の最大・最小値の数値的探索\n",
        "- グラフによる視覚的理解\n",
        "- 制約条件付きの最適化問題\n",
        "\n",
        "#### **Day 4**: データ分析\n",
        "- 統計量の計算（平均、分散、相関など）\n",
        "- ヒストグラムと散布図による可視化\n",
        "- 回帰分析と関係性の理解\n",
        "\n",
        "#### **Day 5**: 確率とシミュレーション\n",
        "- 確率現象のシミュレーション\n",
        "- 理論値と実験値の比較\n",
        "- モンテカルロ法による数値計算\n",
        "\n",
        "### プログラミングの学習効果\n",
        "\n",
        "この5日間で、皆さんは：\n",
        "- **数学の理論**をプログラムで実践的に確認\n",
        "- **データの可視化**で直感的な理解を深化\n",
        "- **シミュレーション**で複雑な現象を分析\n",
        "- **問題解決**のための新しいツールを習得\n",
        "\n",
        "### 今後の学習に向けて\n",
        "\n",
        "プログラミングと数学の組み合わせは、今後の学習や将来の仕事で大きな武器になります：\n",
        "\n",
        "- **大学数学**：微積分、線形代数、統計学の理解が深まる\n",
        "- **理系分野**：物理、化学、生物学での数値実験\n",
        "- **文系分野**：経済学、心理学でのデータ分析\n",
        "- **実社会**：AI、データサイエンス、金融工学など\n",
        "\n",
        "### 最終メッセージ\n",
        "\n",
        "数学は「考える力」を、プログラミングは「実現する力」を育てます。この2つを組み合わせることで、皆さんの可能性は無限に広がります。\n",
        "\n",
        "今回学んだ技術を使って、ぜひ自分だけの面白いプロジェクトに挑戦してみてください！\n",
        "\n",
        "### 提出について\n",
        "\n",
        "このノートブックに解答を記入し、保存してからGoogle Classroomに提出してください。5日間の学習の集大成として、問題3では創造性溢れる解答を期待しています！\n",
        "\n",
        "### 参考資料\n",
        "\n",
        "- Julia Documentation: https://docs.julialang.org/\n",
        "- Julia Statistics: https://docs.julialang.org/en/v1/stdlib/Statistics/\n",
        "- Julia Random: https://docs.julialang.org/en/v1/stdlib/Random/\n",
        "- 確率・統計の参考書\n",
        "- プログラミング学習サイト\n",
        "\n",
        "## お疲れさまでした！🎉\n",
        "\n",
        "5日間の講習会、本当にお疲れさまでした。皆さんの今後の学習と成長を心から応援しています！\n"
      ]
    }
  ],
  "metadata": {
    "colab": {
      "provenance": []
    },
    "kernelspec": {
      "display_name": "Julia 1.11.6",
      "language": "julia",
      "name": "julia-1.11"
    },
    "language_info": {
      "file_extension": ".jl",
      "mimetype": "application/julia",
      "name": "julia",
      "version": "1.11.6"
    }
  },
  "nbformat": 4,
  "nbformat_minor": 5
}