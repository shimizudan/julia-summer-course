{
  "cells": [
    {
      "cell_type": "markdown",
      "id": "header",
      "metadata": {
        "id": "header"
      },
      "source": [
        "# 高校数学とJulia言語 Day 4\n",
        "\n",
        "- 城北中学校・高等学校　中学3年・高校1年\n",
        "- 夏期講習会III 2025/8/24~2025/8/28\n",
        "- 担当：清水団\n",
        "\n",
        "## 本日のテーマ：データの可視化と統計処理\n",
        "\n",
        "### 5日間の学習予定\n",
        "- **Day 1**：Google Colabの紹介・基本計算 ✅\n",
        "- **Day 2**：関数のグラフの描画 ✅\n",
        "- **Day 3**：最適化（最大・最小） ✅\n",
        "- **Day 4**：データの分析 ← 今日\n",
        "- **Day 5**：確率・シミュレーション\n",
        "\n",
        "今日は実際のデータを使って、統計の基本と可視化を学びます！\n"
      ]
    },
    {
      "cell_type": "markdown",
      "id": "introduction",
      "metadata": {
        "id": "introduction"
      },
      "source": [
        "## データサイエンスの重要性\n",
        "\n",
        "現代社会では、データに基づいた判断が重要になっています：\n",
        "\n",
        "- **スポーツ**：選手のパフォーマンス分析\n",
        "- **医療**：病気の早期発見、治療効果の測定\n",
        "- **教育**：学習効果の測定、個別指導の最適化\n",
        "- **ビジネス**：売上予測、顧客分析\n",
        "- **環境**：気候変動の分析\n",
        "\n",
        "今日は、グラフを描いてデータの特徴を理解し、統計量を計算してデータを定量的に分析する方法を学びます。\n"
      ]
    },
    {
      "cell_type": "markdown",
      "id": "package_setup",
      "metadata": {
        "id": "package_setup"
      },
      "source": [
        "## 必要なパッケージの準備\n",
        "\n",
        "統計処理に必要なパッケージを読み込みましょう。\n"
      ]
    },
    {
      "cell_type": "code",
      "execution_count": null,
      "id": "85364200",
      "metadata": {},
      "outputs": [],
      "source": [
        "# パッケージのインストール（初回のみ実行）\n",
        "import Pkg\n",
        "Pkg.add([\"Statistics\", \"StatsBase\", \"Random\", \"StatsPlots\"])"
      ]
    },
    {
      "cell_type": "code",
      "execution_count": null,
      "id": "load_packages",
      "metadata": {
        "id": "load_packages"
      },
      "outputs": [],
      "source": [
        "# パッケージの読み込み\n",
        "using Plots\n",
        "using Statistics       # 統計関数（mean, std など）\n",
        "using StatsBase        # 統計分析（mode,cor など）\n",
        "using Random           # 乱数生成\n",
        "using StatsPlots       # 統計グラフ作成(boxplot)\n",
        "\n",
        "\n",
        "# フォント設定（日本語ラベルのため）\n",
        "gr(fontfamily=\"ipam\")\n",
        "\n",
        "# 乱数のシードを設定（結果を再現可能にする）\n",
        "Random.seed!(42)\n",
        "\n",
        "println(\"パッケージの読み込み完了！\")"
      ]
    },
    {
      "cell_type": "markdown",
      "id": "basic_statistics",
      "metadata": {
        "id": "basic_statistics"
      },
      "source": [
        "## 基本的な統計量を計算してみよう\n",
        "\n",
        "### 問題1：テストの点数データの分析\n",
        "\n",
        "あるクラスの数学のテストの点数を分析してみましょう。\n"
      ]
    },
    {
      "cell_type": "code",
      "execution_count": null,
      "id": "sample_data",
      "metadata": {
        "id": "sample_data"
      },
      "outputs": [],
      "source": [
        "# サンプルデータ：あるクラスの数学のテストの点数\n",
        "test_scores = [85, 92, 78, 88, 95, 82, 90, 87, 83, 91, 76, 89, 94, 80, 86]\n",
        "\n",
        "println(\"数学のテストの点数：\", test_scores)\n",
        "println(\"データの個数：\", length(test_scores))"
      ]
    },
    {
      "cell_type": "code",
      "execution_count": null,
      "id": "descriptive_stats",
      "metadata": {
        "id": "descriptive_stats"
      },
      "outputs": [],
      "source": [
        "# 基本統計量の計算\n",
        "println(\"=== 基本統計量 ===\")\n",
        "println(\"平均値：\", round(mean(test_scores), digits=2))\n",
        "println(\"中央値：\", median(test_scores))\n",
        "println(\"最頻値：\", mode(test_scores))\n",
        "println(\"\")\n",
        "println(\"最大値：\", maximum(test_scores))\n",
        "println(\"最小値：\", minimum(test_scores))\n",
        "println(\"範囲：\", maximum(test_scores) - minimum(test_scores))\n",
        "println(\"\")\n",
        "println(\"分散：\", round(var(test_scores), digits=2))\n",
        "println(\"標準偏差：\", round(std(test_scores), digits=2))\n",
        "println(\"\")\n",
        "println(\"第1四分位数：\", quantile(test_scores, 0.25))\n",
        "println(\"第3四分位数：\", quantile(test_scores, 0.75))\n",
        "println(\"四分位範囲：\", quantile(test_scores, 0.75) - quantile(test_scores, 0.25))"
      ]
    },
    {
      "cell_type": "markdown",
      "id": "histogram_section",
      "metadata": {
        "id": "histogram_section"
      },
      "source": [
        "## ヒストグラムでデータの分布を見てみよう\n",
        "\n",
        "ヒストグラムは、データの分布を視覚的に表現する重要なグラフです。\n"
      ]
    },
    {
      "cell_type": "code",
      "execution_count": null,
      "id": "basic_histogram",
      "metadata": {
        "id": "basic_histogram"
      },
      "outputs": [],
      "source": [
        "# 基本的なヒストグラム\n",
        "histogram(test_scores, bins=5, \n",
        "         title=\"数学テストの点数分布\", \n",
        "         xlabel=\"点数\", \n",
        "         ylabel=\"人数\",\n",
        "         color=:skyblue,\n",
        "         linewidth=2,\n",
        "         alpha=0.7,\n",
        "         label=\"ヒストグラム\")\n",
        "\n",
        "# 平均値の線を追加\n",
        "vline!([mean(test_scores)], linewidth=3, color=:red, label=\"平均値\")\n",
        "\n",
        "# 中央値の線を追加\n",
        "vline!([median(test_scores)], linewidth=3, color=:green, label=\"中央値\", linestyle=:dash)"
      ]
    },
    {
      "cell_type": "markdown",
      "id": "scatter_plot_section",
      "metadata": {
        "id": "scatter_plot_section"
      },
      "source": [
        "## 散布図で関係性を探ってみよう\n",
        "\n",
        "### 問題2：学習時間と成績の関係分析\n",
        "\n",
        "散布図は、2つの変数の関係を視覚的に表現するのに最適なグラフです。\n"
      ]
    },
    {
      "cell_type": "code",
      "execution_count": null,
      "id": "study_data",
      "metadata": {
        "id": "study_data"
      },
      "outputs": [],
      "source": [
        "# 学習時間と成績の関係を調べるデータ\n",
        "study_hours = [1, 2, 3, 4, 5, 6, 7, 8, 9, 10, 2, 3, 4, 5, 6, 7, 8, 9, 1, 10]\n",
        "exam_scores = [45, 55, 60, 68, 75, 80, 85, 88, 92, 95, 50, 58, 65, 72, 78, 83, 87, 90, 48, 93]\n",
        "\n",
        "# 相関係数を計算\n",
        "correlation = cor(study_hours, exam_scores)\n",
        "println(\"学習時間と成績の相関係数：\", round(correlation, digits=3))\n",
        "\n",
        "# 散布図の作成\n",
        "scatter(study_hours, exam_scores, \n",
        "        title=\"学習時間と試験成績の関係\", \n",
        "        xlabel=\"学習時間 (時間)\", \n",
        "        ylabel=\"試験成績 (点)\",\n",
        "        color=:blue,\n",
        "        markersize=6,\n",
        "        alpha=0.7,\n",
        "        label=\"データ点\")"
      ]
    },
    {
      "cell_type": "code",
      "execution_count": null,
      "id": "regression_line",
      "metadata": {
        "id": "regression_line"
      },
      "outputs": [],
      "source": [
        "# 回帰直線を追加\n",
        "# 最小二乗法で回帰直線の係数を求める\n",
        "n = length(study_hours)\n",
        "x_mean = mean(study_hours)\n",
        "y_mean = mean(exam_scores)\n",
        "\n",
        "# 回帰直線の傾き\n",
        "slope = sum((study_hours .- x_mean) .* (exam_scores .- y_mean)) / sum((study_hours .- x_mean).^2)\n",
        "# 回帰直線の切片\n",
        "intercept = y_mean - slope * x_mean\n",
        "\n",
        "println(\"回帰直線の方程式：y = \", round(slope, digits=2), \"x + \", round(intercept, digits=2))\n",
        "\n",
        "# 散布図と回帰直線を描画\n",
        "scatter(study_hours, exam_scores, \n",
        "        title=\"学習時間と試験成績の関係（回帰直線付き）\", \n",
        "        xlabel=\"学習時間 (時間)\", \n",
        "        ylabel=\"試験成績 (点)\",\n",
        "        color=:blue,\n",
        "        markersize=6,\n",
        "        alpha=0.7,\n",
        "        label=\"データ点\")\n",
        "\n",
        "# 回帰直線を追加\n",
        "x_line = 0:0.1:10\n",
        "y_line = slope .* x_line .+ intercept\n",
        "plot!(x_line, y_line, color=:red, linewidth=3, label=\"回帰直線\")"
      ]
    },
    {
      "cell_type": "markdown",
      "id": "multiple_comparison",
      "metadata": {
        "id": "multiple_comparison"
      },
      "source": [
        "## 複数のデータを比較してみよう\n",
        "\n",
        "### 問題3：2つのクラスの成績比較\n",
        "\n",
        "異なるグループのデータを比較することで、より深い洞察を得ることができます。\n"
      ]
    },
    {
      "cell_type": "code",
      "execution_count": null,
      "id": "class_comparison",
      "metadata": {
        "id": "class_comparison"
      },
      "outputs": [],
      "source": [
        "# 2つのクラスのテスト結果\n",
        "class_a = [75, 80, 85, 78, 82, 88, 76, 84, 79, 87, 81, 83, 86, 77, 89]\n",
        "class_b = [70, 85, 90, 72, 88, 92, 74, 86, 73, 91, 89, 87, 94, 75, 93]\n",
        "\n",
        "println(\"=== Aクラスの統計量 ===\")\n",
        "println(\"平均値：\", round(mean(class_a), digits=2))\n",
        "println(\"中央値：\", median(class_a))\n",
        "println(\"標準偏差：\", round(std(class_a), digits=2))\n",
        "\n",
        "println(\"\\n=== Bクラスの統計量 ===\")\n",
        "println(\"平均値：\", round(mean(class_b), digits=2))\n",
        "println(\"中央値：\", median(class_b))\n",
        "println(\"標準偏差：\", round(std(class_b), digits=2))"
      ]
    },
    {
      "cell_type": "code",
      "execution_count": null,
      "id": "comparison_plots",
      "metadata": {
        "id": "comparison_plots"
      },
      "outputs": [],
      "source": [
        "# 2つのクラスのヒストグラムを比較\n",
        "# データの範囲を確認して階級を統一\n",
        "min_score = min(minimum(class_a), minimum(class_b))\n",
        "max_score = max(maximum(class_a), maximum(class_b))\n",
        "bin_edges = min_score:2:max_score  # 2点刻みで階級を設定\n",
        "\n",
        "p1 = histogram(class_a, bins=bin_edges, alpha=0.7, color=:blue, \n",
        "              title=\"Aクラスの成績分布\", xlabel=\"点数\", ylabel=\"人数\", label=\"Aクラス\")\n",
        "vline!([mean(class_a)], color=:red, linewidth=3, label=\"平均値\")\n",
        "\n",
        "p2 = histogram(class_b, bins=bin_edges, alpha=0.7, color=:green, \n",
        "              title=\"Bクラスの成績分布\", xlabel=\"点数\", ylabel=\"人数\", label=\"Bクラス\")\n",
        "vline!([mean(class_b)], color=:red, linewidth=3, label=\"平均値\")\n",
        "\n",
        "\n",
        "# # 箱ひげ図\n",
        "boxplot(class_a, ylabel=\"点数\",ylim = (60,100),color=:blue,label=\"A組\")\n",
        "\n",
        "p3 = boxplot!(class_b, title=\"ABクラスの箱ひげ図\", ylabel=\"点数\",ylim = (60,100),color=:green,label=\"B組\")\n",
        "\n",
        "plot(p1, p2, p3, layout=(1,3), size=(1000, 300))\n"
      ]
    },
    {
      "cell_type": "markdown",
      "id": "real_data_example",
      "metadata": {
        "id": "real_data_example"
      },
      "source": [
        "## 実際のデータ分析例：気温と売上の関係\n",
        "\n",
        "アイスクリーム店の売上データを分析してみましょう。\n"
      ]
    },
    {
      "cell_type": "code",
      "execution_count": null,
      "id": "ice_cream_data",
      "metadata": {
        "id": "ice_cream_data"
      },
      "outputs": [],
      "source": [
        "# アイスクリーム店のデータ（架空）\n",
        "Random.seed!(123)\n",
        "\n",
        "# 15日間のデータ\n",
        "days = 1:15\n",
        "temperatures = 20 .+ 8 * rand(15)  # 20-28℃の気温\n",
        "# 売上は気温に比例 + ランダム要素\n",
        "sales = 1000 .+ 150 * temperatures .+ 300 * randn(15)\n",
        "sales = max.(1000, sales)  # 売上は1000円以上\n",
        "\n",
        "println(\"気温と売上のデータ：\")\n",
        "for i in 1:15\n",
        "    println(\"Day \", i, \": \", round(temperatures[i], digits=1), \"℃, \", round(Int, sales[i]), \"円\")\n",
        "end\n",
        "\n",
        "println(\"\\n相関係数：\", round(cor(temperatures, sales), digits=3))"
      ]
    },
    {
      "cell_type": "code",
      "execution_count": null,
      "id": "ice_cream_analysis",
      "metadata": {
        "id": "ice_cream_analysis"
      },
      "outputs": [],
      "source": [
        "# データの可視化\n",
        "p1 = plot(days, temperatures, \n",
        "         title=\"日別気温の変化\", xlabel=\"日\", ylabel=\"気温 (℃)\",\n",
        "         color=:red, linewidth=2, marker=:circle, markersize=4, label=\"気温\")\n",
        "\n",
        "p2 = plot(days, sales, \n",
        "         title=\"日別売上の変化\", xlabel=\"日\", ylabel=\"売上 (円)\",\n",
        "         color=:blue, linewidth=2, marker=:circle, markersize=4, label=\"売上\")\n",
        "\n",
        "p3 = scatter(temperatures, sales, \n",
        "            title=\"気温と売上の関係\", xlabel=\"気温 (℃)\", ylabel=\"売上 (円)\",\n",
        "            color=:green, markersize=6, alpha=0.7, label=\"データ点\")\n",
        "\n",
        "# 回帰直線を追加\n",
        "temp_mean = mean(temperatures)\n",
        "sales_mean = mean(sales)\n",
        "slope = sum((temperatures .- temp_mean) .* (sales .- sales_mean)) / sum((temperatures .- temp_mean).^2)\n",
        "intercept = sales_mean - slope * temp_mean\n",
        "\n",
        "temp_range = minimum(temperatures):0.1:maximum(temperatures)\n",
        "regression_line = slope .* temp_range .+ intercept\n",
        "plot!(p3, temp_range, regression_line, color=:red, linewidth=3, label=\"回帰直線\")\n",
        "\n",
        "plot(p1, p2, p3, layout=(1,3), size=(1000, 300))"
      ]
    },
    {
      "cell_type": "markdown",
      "id": "exercises",
      "metadata": {
        "id": "exercises"
      },
      "source": [
        "## Day 4 の演習問題\n",
        "\n",
        "以下の問題に取り組んで、データ分析の技術を身につけましょう。\n",
        "\n",
        "### 問題1: 基本統計量の計算\n",
        "\n",
        "以下のデータは、ある高校の生徒20人の身長（cm）です：\n",
        "\n",
        "```\n",
        "heights = [165, 170, 168, 172, 160, 175, 169, 171, 167, 173, \n",
        "           162, 174, 166, 168, 170, 169, 171, 164, 172, 167]\n",
        "```\n",
        "\n",
        "1. 平均身長、中央値、標準偏差を計算してください\n",
        "2. ヒストグラムを作成して、データの分布を可視化してください\n",
        "3. 平均値と中央値の線をヒストグラムに追加してください\n",
        "4. 箱ひげ図を作成しよう。\n",
        "\n",
        "### 問題2: 相関分析\n",
        "\n",
        "以下のデータは、10人の生徒の数学と物理の成績です：\n",
        "\n",
        "```\n",
        "math_scores = [85, 90, 78, 92, 88, 75, 95, 82, 87, 91]\n",
        "physics_scores = [80, 88, 75, 90, 85, 70, 92, 78, 84, 89]\n",
        "```\n",
        "\n",
        "1. 数学と物理の成績の相関係数を計算してください\n",
        "2. 散布図を作成して、2つの科目の関係を可視化してください\n",
        "3. 回帰直線を追加して、回帰式を求めてください\n",
        "4. 散布図や回帰直線から，どのようなことがわかりますか？また，数学と物理の学習に役立てるにはどうすればいいですか？\n",
        "\n"
      ]
    },
    {
      "cell_type": "markdown",
      "id": "answer_section",
      "metadata": {
        "id": "answer_section"
      },
      "source": [
        "## 解答欄\n",
        "\n",
        "以下のセルに解答を記入してください。\n"
      ]
    },
    {
      "cell_type": "markdown",
      "id": "answer1_title",
      "metadata": {
        "id": "answer1_title"
      },
      "source": [
        "### 問題1の解答：基本統計量の計算"
      ]
    },
    {
      "cell_type": "code",
      "execution_count": null,
      "id": "answer1_code",
      "metadata": {
        "id": "answer1_code"
      },
      "outputs": [],
      "source": [
        "# 問題1: 身長データの統計分析\n",
        "heights = [165, 170, 168, 172, 160, 175, 169, 171, 167, 173, \n",
        "           162, 174, 166, 168, 170, 169, 171, 164, 172, 167]\n",
        "\n",
        "# 1. 平均身長、中央値、標準偏差を計算してください\n"
      ]
    },
    {
      "cell_type": "code",
      "execution_count": null,
      "id": "9b35f015",
      "metadata": {},
      "outputs": [],
      "source": [
        "# 2. ヒストグラムを作成して、データの分布を可視化してください。\n",
        "# bin の値は調整してみよう\n"
      ]
    },
    {
      "cell_type": "code",
      "execution_count": null,
      "id": "ab066f20",
      "metadata": {},
      "outputs": [],
      "source": [
        "# 3. 平均値と中央値の線をヒストグラムに追加してください\n"
      ]
    },
    {
      "cell_type": "code",
      "execution_count": null,
      "id": "f828c348",
      "metadata": {},
      "outputs": [],
      "source": [
        "# 4. 箱ひげ図を作成しよう。\n"
      ]
    },
    {
      "cell_type": "markdown",
      "id": "answer2_title",
      "metadata": {
        "id": "answer2_title"
      },
      "source": [
        "### 問題2の解答：相関分析"
      ]
    },
    {
      "cell_type": "code",
      "execution_count": null,
      "id": "answer2_code",
      "metadata": {
        "id": "answer2_code"
      },
      "outputs": [],
      "source": [
        "# 問題2: 数学と物理の成績の相関分析\n",
        "math_scores = [85, 90, 78, 92, 88, 75, 95, 82, 87, 91]\n",
        "physics_scores = [80, 88, 75, 90, 85, 70, 92, 78, 84, 89]\n",
        "\n",
        "# 1. 数学と物理の成績の相関係数を計算してください\n"
      ]
    },
    {
      "cell_type": "code",
      "execution_count": null,
      "id": "e501aea2",
      "metadata": {},
      "outputs": [],
      "source": [
        "# 2. 散布図を作成して、2つの科目の関係を可視化してください\n"
      ]
    },
    {
      "cell_type": "code",
      "execution_count": null,
      "id": "69908fc5",
      "metadata": {},
      "outputs": [],
      "source": [
        "# 3. 回帰直線を追加して、回帰式を求めてください\n"
      ]
    },
    {
      "cell_type": "markdown",
      "id": "59e9adb0",
      "metadata": {},
      "source": [
        "4. 散布図や回帰直線から，どのようなことがわかりますか？また，数学と物理の学習に役立てるにはどうすればいいですか？\n",
        "（自由に書いてみましょう）\n"
      ]
    },
    {
      "cell_type": "markdown",
      "id": "conclusion",
      "metadata": {
        "id": "conclusion"
      },
      "source": [
        "## まとめ\n",
        "\n",
        "今日はデータ分析の基本を学びました。\n",
        "\n",
        "### 学習した内容\n",
        "\n",
        "#### 統計の基本\n",
        "- **基本統計量**：平均値、中央値、標準偏差、四分位数\n",
        "- **データの分布**：ヒストグラムによる可視化\n",
        "- **データの散らばり**：分散と標準偏差による定量化\n",
        "\n",
        "#### データの可視化\n",
        "- **ヒストグラム**：データの分布を表現\n",
        "- **散布図**：2変数の関係性を可視化\n",
        "- **箱ひげ図**：複数グループの比較\n",
        "\n",
        "#### 関係性の分析\n",
        "- **相関係数**：2つの変数の関係の強さを定量化\n",
        "- **回帰直線**：データの傾向を直線で表現\n",
        "- **最小二乗法**：最適な直線の求め方\n",
        "\n",
        "#### 重要なポイント\n",
        "- データを可視化することで、数値だけでは見えないパターンが見える\n",
        "- 相関関係があっても因果関係があるとは限らない\n",
        "- 複数の統計量を組み合わせてデータを理解する\n",
        "\n",
        "### 次回予告\n",
        "\n",
        "Day 5では、確率とシミュレーションについて学習します。ランダムな現象をJuliaでモデル化し、確率的な予測を行う方法を学びましょう！\n",
        "\n",
        "### 提出について\n",
        "\n",
        "このノートブックに解答を記入し、保存してからGoogle Classroomに提出してください。特に問題3では、創意工夫を凝らした分析を期待しています！\n",
        "\n",
        "### 参考資料\n",
        "\n",
        "- Julia Statistics Documentation: https://docs.julialang.org/en/v1/stdlib/Statistics/\n",
        "- StatsBase.jl: https://github.com/JuliaStats/StatsBase.jl\n",
        "- Plots.jl: https://docs.juliaplots.org/latest/\n"
      ]
    }
  ],
  "metadata": {
    "colab": {
      "provenance": []
    },
    "kernelspec": {
      "display_name": "Julia 1.11.6",
      "language": "julia",
      "name": "julia-1.11"
    },
    "language_info": {
      "file_extension": ".jl",
      "mimetype": "application/julia",
      "name": "julia",
      "version": "1.11.6"
    }
  },
  "nbformat": 4,
  "nbformat_minor": 5
}
