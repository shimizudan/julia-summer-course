{
  "cells": [
    {
      "cell_type": "markdown",
      "id": "header",
      "metadata": {
        "id": "header"
      },
      "source": [
        "# 高校数学とJulia言語 Day 3\n",
        "\n",
        "- 城北中学校・高等学校　中学3年・高校1年\n",
        "- 夏期講習会III 2025/8/24~2025/8/28\n",
        "- 担当：清水団\n",
        "\n",
        "## 本日のテーマ：関数の最大・最小を求めよう！\n",
        "\n",
        "### 5日間の学習予定\n",
        "- **Day 1**：Google Colabの紹介・基本計算 ✅\n",
        "- **Day 2**：関数のグラフの描画 ✅\n",
        "- **Day 3**：最適化（最大・最小） ← 今日\n",
        "- **Day 4**：データの分析\n",
        "- **Day 5**：確率・シミュレーション\n"
      ]
    },
    {
      "cell_type": "markdown",
      "id": "introduction",
      "metadata": {
        "id": "introduction"
      },
      "source": [
        "## 最大・最小を求める意味\n",
        "\n",
        "関数の最大値・最小値を求めることは、数学だけでなく実生活でも重要です：\n",
        "\n",
        "- **経済学**：利益を最大化、費用を最小化\n",
        "- **工学**：材料を最小限で最大の強度を得る\n",
        "- **スポーツ**：最高記録を出すための軌道\n",
        "- **日常生活**：時間や労力を最小にして最大の効果を得る\n",
        "\n",
        "今日は、グラフを描いて視覚的に最大・最小を見つけ、その後数値的に正確な値を求める方法を学びます。\n"
      ]
    },
    {
      "cell_type": "markdown",
      "id": "package_setup",
      "metadata": {
        "id": "package_setup"
      },
      "source": [
        "## 必要なパッケージの準備\n",
        "\n",
        "グラフの描画に必要なパッケージを読み込みましょう。\n"
      ]
    },
    {
      "cell_type": "code",
      "execution_count": null,
      "id": "load_packages",
      "metadata": {
        "id": "load_packages"
      },
      "outputs": [],
      "source": [
        "# パッケージの読み込み\n",
        "using Plots\n",
        "\n",
        "# フォント設定（日本語ラベルのため）\n",
        "gr(fontfamily=\"ipam\")\n",
        "\n",
        "println(\"パッケージの読み込み完了！\")"
      ]
    },
    {
      "cell_type": "markdown",
      "id": "basic_optimization",
      "metadata": {
        "id": "basic_optimization"
      },
      "source": [
        "## 基本的な最大・最小問題\n",
        "\n",
        "まずは簡単な2次関数から始めてみましょう。\n",
        "\n",
        "### 問題1：2次関数 $f(x) = -x^2 + 4x + 1$ の最大値を求める\n"
      ]
    },
    {
      "cell_type": "code",
      "execution_count": null,
      "id": "c0a34628",
      "metadata": {},
      "outputs": [],
      "source": [
        "# まず，関数を定義してグラフを書いて，最大値がどのあたりか確認しましょう。\n",
        "\n",
        "# 関数を定義\n",
        "f(x) = -x^2 + 4x + 1\n",
        "\n",
        "# グラフをプロット\n",
        "plot(f,lw =3,color=:blue)\n"
      ]
    },
    {
      "cell_type": "code",
      "execution_count": null,
      "id": "8fcef1c7",
      "metadata": {},
      "outputs": [],
      "source": [
        "# 数値的に最大値を探します。\n",
        "# グラフから x = 2 付近が最大値と予想されるので、その周辺を詳しく調べてみます。\n",
        "# 調べたら，結果を文章でアウトプットしてみよう。\n",
        "\n",
        "X = 1.5:0.01:2.5    # x = 1.5 から 2.5 まで 0.01 刻み\n",
        "Y = f.(X)   # 各x値での関数値を計算\n",
        "\n",
        "# 最大値とその位置を見つける\n",
        "@show y = maximum(Y)\n",
        "@show x = X[argmax(Y)]\n",
        "\n",
        "# 文章で答えてみよう。\n",
        "println(\"x=$x のとき，最大値 y=$y\")"
      ]
    },
    {
      "cell_type": "code",
      "execution_count": null,
      "id": "f6f5f561",
      "metadata": {},
      "outputs": [],
      "source": [
        "# グラフに最大値の点を追加してみよう\n",
        "\n",
        "plot(f, lw=3, label=\"f(x) = -x² + 4x + 1\", color=:blue)\n",
        "scatter!([x], [y], ms=6, color=:red, label=\"最大値 ($x, $y)\")"
      ]
    },
    {
      "cell_type": "markdown",
      "id": "a513b29f",
      "metadata": {},
      "source": [
        "#### 理論的解法との比較\n",
        "\n",
        "**平方完成して求めます。**\n",
        "\n",
        "$$f(x) = -x^2 + 4x + 1 = -(x-2)^2+5$$\n",
        "\n",
        "$$ \\therefore \\max f(x) = f(2) = 5 $$"
      ]
    },
    {
      "cell_type": "markdown",
      "id": "constrained_optimization",
      "metadata": {
        "id": "constrained_optimization"
      },
      "source": [
        "## 区間を制限した最大・最小問題\n",
        "\n",
        "### 問題2：関数 $g(x) = x^3 - 6x^2 + 9x + 2$ の区間 $[-1, 3]$での最大値・最小値を求める\n",
        "\n",
        "-  区間 $[-1, 3]$は$-1\\leqq x\\leqq 3$の範囲となります。\n",
        "-  3次関数では、極大値・極小値が複数存在することがあります。\n"
      ]
    },
    {
      "cell_type": "code",
      "execution_count": null,
      "id": "cubic_function",
      "metadata": {
        "id": "cubic_function"
      },
      "outputs": [],
      "source": [
        "\n",
        "# 関数を定義\n",
        "g(x) = x^3 - 6x^2 + 9x + 2\n",
        "\n",
        "# まず広い範囲でグラフを描いて全体像を把握\n",
        "plot(g, -2:0.1:4, lw=3, label=\"g(x) = x³ - 6x² + 9x + 2\", color=:green)\n",
        "\n",
        "# 制約区間 [-1, 3] を示す\n",
        "vline!([-1, 3], color=:red, lw=2, alpha=0.7, label=\"制約区間 [-1, 3]\")"
      ]
    },
    {
      "cell_type": "code",
      "execution_count": null,
      "id": "constrained_search",
      "metadata": {
        "id": "constrained_search"
      },
      "outputs": [],
      "source": [
        "# 区間 [-1, 3] での数値的探索\n",
        "X = -1:0.01:3  # 区間 [-1, 3] を 0.01 刻みで探索\n",
        "Y = g.(X)\n",
        "\n",
        "# 最大値と最小値を見つける\n",
        "ymax = maximum(Y)\n",
        "ymin = minimum(Y)\n",
        "xposmax = X[argmax(Y)]\n",
        "xposmin = X[argmin(Y)]\n",
        "\n",
        "println(\"=== 区間 [0, 5] での最大・最小 ===\")\n",
        "println(\"最大値: \", round(ymax, digits=3), \" (x = \", round(xposmax, digits=3), \")\")\n",
        "println(\"最小値: \", round(ymin, digits=3), \" (x = \", round(xposmin, digits=3), \")\")"
      ]
    },
    {
      "cell_type": "code",
      "execution_count": null,
      "id": "a8968f62",
      "metadata": {},
      "outputs": [],
      "source": [
        "# グラフに最大・最小の点を追加してみよう\n",
        "\n",
        "plot(g, -1:0.1:3, lw=3, label=\"g(x) = x³ - 6x² + 9x + 2\", color=:green)\n",
        "scatter!([xposmax,xposmin],[ymax,ymin],ms = 8,color=:red,label=\"最大・最小\")"
      ]
    },
    {
      "cell_type": "markdown",
      "id": "394a8fe8",
      "metadata": {},
      "source": [
        "#### 理論的解法との比較\n",
        "\n",
        "**微分して求めます。**\n",
        "\n",
        "$$g(x) = x^3 - 6x^2 + 9x + 2$$\n",
        "\n",
        "$$g'(x) = 3x^2-12x+9 =3(x-3)(x-1)$$\n",
        "\n",
        "$$g(-1)=-14,g(1)=6,g(3)=2$$\n",
        "\n",
        "$$ \\therefore \\max g(x) =  g(1) =6, \\min g(x) =  g(-1) = -14 $$"
      ]
    },
    {
      "cell_type": "markdown",
      "id": "trigonometric_optimization",
      "metadata": {
        "id": "trigonometric_optimization"
      },
      "source": [
        "## 三角関数の最大・最小\n",
        "\n",
        "### 問題3：関数 $h(x) = 2\\sin(x) + \\cos(2x)$ の区間 $[0, 2\\pi]$ での最大値・最小値を求める\n",
        "\n",
        "三角関数の合成では、複雑な周期的パターンが現れることがあります。\n"
      ]
    },
    {
      "cell_type": "code",
      "execution_count": null,
      "id": "trigonometric_function",
      "metadata": {
        "id": "trigonometric_function"
      },
      "outputs": [],
      "source": [
        "# 関数を定義\n",
        "h(x) = 2sin(x) + cos(2x)\n",
        "\n",
        "# グラフを描いて周期的パターンを観察\n",
        "plot(h, 0:0.1:2π, linewidth=3, label=\"h(x) = 2sin(x) + cos(2x)\", color=:purple)\n",
        "\n",
        "# x軸の目盛りをπ単位で表示\n",
        "xticks!([0, π/2, π, 3π/2, 2π], [\"0\", \"π/2\", \"π\", \"3π/2\", \"2π\"])"
      ]
    },
    {
      "cell_type": "code",
      "execution_count": null,
      "id": "trig_search",
      "metadata": {
        "id": "trig_search"
      },
      "outputs": [],
      "source": [
        "# 区間 [0, 2π] での数値的探索\n",
        "X = 0:0.001:2π  # より細かく刻んで探索\n",
        "Y = h.(X)\n",
        "\n",
        "# 最大値と最小値を見つける\n",
        "ymax = maximum(Y)\n",
        "ymin = minimum(Y)\n",
        "xposmax = X[argmax(Y)]\n",
        "xposmin = X[argmin(Y)]\n",
        "\n",
        "println(\"=== 区間 [0, 2π] での最大・最小 ===\")\n",
        "println(\"最大値: \", round(ymax, digits=4), \" (x ≈ \", round(xposmax, digits=4), \")\")\n",
        "println(\"最小値: \", round(ymin, digits=4), \" (x ≈ \", round(xposmin, digits=4), \")\")\n",
        "\n",
        "# π単位での表示\n",
        "println(\"\\n=== π単位での表示 ===\")\n",
        "println(\"最大値の位置: x ≈ \", round(xposmax/π, digits=3), \"π\")\n",
        "println(\"最小値の位置: x ≈ \", round(xposmin/π, digits=3), \"π\")\n"
      ]
    },
    {
      "cell_type": "code",
      "execution_count": null,
      "id": "7c4e7e04",
      "metadata": {},
      "outputs": [],
      "source": [
        "\n",
        "# グラフに最大・最小値をプロット\n",
        "plot(h, 0:0.01:2π, linewidth=3, label=\"h(x) = 2sin(x) + cos(2x)\", color=:purple)\n",
        "scatter!([xposmax], [ymax], markersize=8, color=:red, label=\"最大値\")\n",
        "scatter!([xposmin], [ymin], markersize=8, color=:blue, label=\"最小値\")\n",
        "title!(\"三角関数の最大・最小\")\n",
        "xlabel!(\"x\")\n",
        "ylabel!(\"h(x)\")\n",
        "xticks!([0, π/2, π, 3π/2, 2π], [\"0\", \"π/2\", \"π\", \"3π/2\", \"2π\"])"
      ]
    },
    {
      "cell_type": "code",
      "execution_count": null,
      "id": "6816813a",
      "metadata": {},
      "outputs": [],
      "source": [
        "# 考察 x= 0のときも最大値ではないか？\n",
        "# [0, π/2] で調べてみる\n",
        "\n",
        "X = 0:0.001:π/2\n",
        "Y = h.(X)\n",
        "@show Y |>maximum \n",
        "@show X[argmax(Y)]\n"
      ]
    },
    {
      "cell_type": "markdown",
      "id": "comparison_methods",
      "metadata": {
        "id": "comparison_methods"
      },
      "source": [
        "## 最大・最小を求める方法の比較\n",
        "\n",
        "今日学んだ数値的手法と理論的手法を比較してみましょう。\n",
        "\n",
        "### 数値的手法（今日の方法）\n",
        "**メリット：**\n",
        "- 複雑な関数でも適用可能\n",
        "- グラフで視覚的に理解できる\n",
        "- プログラムで自動化できる\n",
        "- 制約条件を簡単に扱える\n",
        "\n",
        "**デメリット：**\n",
        "- 近似解しか得られない\n",
        "- 計算時間がかかる場合がある\n",
        "- 局所的な最大・最小を見落とす可能性\n",
        "\n",
        "### 理論的手法（微分を使用）\n",
        "**メリット：**\n",
        "- 厳密解が得られる\n",
        "- 計算が高速\n",
        "- 数学的に美しい\n",
        "\n",
        "**デメリット：**\n",
        "- 微分可能な関数に限定\n",
        "- 複雑な関数では計算が困難\n",
        "- 制約条件の扱いが複雑\n"
      ]
    },
    {
      "cell_type": "markdown",
      "id": "exercises",
      "metadata": {
        "id": "exercises"
      },
      "source": [
        "## Day 3 の演習問題\n",
        "\n",
        "以下の問題に取り組んでみましょう。まずグラフを描いて最大・最小の位置を予想し、その後数値的に正確な値を求めてください。\n",
        "\n",
        "### 問題1: 2次関数の最小値\n",
        "\n",
        "関数 $f(x) = 2x^2 - 8x + 11$ の最小値とそのときの $x$ の値を求めてください。\n",
        "\n",
        "1. まずグラフを描いて、最小値の位置を視覚的に確認\n",
        "2. 数値的に最小値と最小値を与える $x$ を求め，文章でアウトプット\n",
        "3. グラフに最小値の位置の点をプロット\n",
        "\n",
        "### 問題2: 3次関数の制約付き最適化\n",
        "\n",
        "関数 $g(x) = x^3 - 3x^2 + 2$ の区間 $[-1, 3]$ での最大値と最小値を求めてください。\n",
        "\n",
        "1. グラフを描いて全体像を把握\n",
        "2. 区間内での最大値・最小値を数値的に求める\n",
        "3. グラフに最大値・最小値の位置の点をプロット\n",
        "4. その他に最大・最小となる点はあるか考察しよう。\n",
        "\n",
        "### 問題3: 応用問題\n",
        "\n",
        "関数 $h(x) = \\sqrt{x^2+1} + \\sqrt{x^2-2x+5}$ の最小値を求めてください。\n",
        "\n",
        "1. グラフを描いて全体像を把握\n",
        "2. 区間内での最小値を数値的に求める\n",
        "3. グラフに最小値の位置の点をプロット\n",
        "4. 考察（理論的にもとまるかな？）\n",
        "\n"
      ]
    },
    {
      "cell_type": "markdown",
      "id": "answer_section",
      "metadata": {
        "id": "answer_section"
      },
      "source": [
        "## 解答欄\n",
        "\n",
        "以下のセルに解答を記入してください。\n"
      ]
    },
    {
      "cell_type": "markdown",
      "id": "answer1_title",
      "metadata": {
        "id": "answer1_title"
      },
      "source": [
        "### 問題1の解答：2次関数の最小値"
      ]
    },
    {
      "cell_type": "code",
      "execution_count": null,
      "id": "answer1_code",
      "metadata": {
        "id": "answer1_code"
      },
      "outputs": [],
      "source": [
        "# 問題1: f(x) = 2x² - 8x + 11 の最小値\n",
        "# 1. まずグラフを描いて、最小値の位置を視覚的に確認\n",
        "\n"
      ]
    },
    {
      "cell_type": "code",
      "execution_count": null,
      "id": "f1d22c90",
      "metadata": {},
      "outputs": [],
      "source": [
        "# 2. 数値的に最小値と最小値を与える $x$ を求め，文章でアウトプット\n"
      ]
    },
    {
      "cell_type": "code",
      "execution_count": null,
      "id": "e15bf100",
      "metadata": {},
      "outputs": [],
      "source": [
        "#3. グラフに最小値の位置の点をプロット\n"
      ]
    },
    {
      "cell_type": "markdown",
      "id": "answer2_title",
      "metadata": {
        "id": "answer2_title"
      },
      "source": [
        "### 問題2の解答：3次関数の制約付き最適化"
      ]
    },
    {
      "cell_type": "code",
      "execution_count": null,
      "id": "answer2_code",
      "metadata": {
        "id": "answer2_code"
      },
      "outputs": [],
      "source": [
        "# 問題2: g(x) = x³ - 3x² + 2 の区間 [-1, 3] での最大値・最小値\n",
        "# 1. グラフを描いて全体像を把握\n"
      ]
    },
    {
      "cell_type": "code",
      "execution_count": null,
      "id": "057ed048",
      "metadata": {},
      "outputs": [],
      "source": [
        "# 2. 区間内での最大値・最小値を数値的に求める\n"
      ]
    },
    {
      "cell_type": "code",
      "execution_count": null,
      "id": "a27877cf",
      "metadata": {},
      "outputs": [],
      "source": [
        "# 3. グラフに最大値・最小値の位置の点をプロット\n"
      ]
    },
    {
      "cell_type": "code",
      "execution_count": null,
      "id": "a8416d57",
      "metadata": {},
      "outputs": [],
      "source": [
        "# 4. その他に最大・最小となる点はあるか考察しよう。\n"
      ]
    },
    {
      "cell_type": "markdown",
      "id": "answer3_title",
      "metadata": {
        "id": "answer3_title"
      },
      "source": [
        "### 問題3の解答：応用問題"
      ]
    },
    {
      "cell_type": "code",
      "execution_count": null,
      "id": "answer3_code",
      "metadata": {
        "id": "answer3_code"
      },
      "outputs": [],
      "source": [
        "# 問題3:  √(x^2+1) + √(x^2-2x+5) の最小値\n",
        "# 1. グラフを描いて全体像を把握\n"
      ]
    },
    {
      "cell_type": "code",
      "execution_count": null,
      "id": "43c16095",
      "metadata": {},
      "outputs": [],
      "source": [
        "# 2. 区間内での最小値を数値的に求める\n"
      ]
    },
    {
      "cell_type": "code",
      "execution_count": null,
      "id": "d091511f",
      "metadata": {},
      "outputs": [],
      "source": [
        "# 3. グラフに最小値の位置の点をプロット\n"
      ]
    },
    {
      "cell_type": "code",
      "execution_count": null,
      "id": "5335c834",
      "metadata": {},
      "outputs": [],
      "source": [
        "# 4. 考察（理論的にもとまるかな？）\n"
      ]
    },
    {
      "cell_type": "markdown",
      "id": "conclusion",
      "metadata": {
        "id": "conclusion"
      },
      "source": [
        "## まとめ\n",
        "\n",
        "今日は関数の最大・最小を求める方法を学びました。\n",
        "\n",
        "### 学習した内容\n",
        "\n",
        "#### 数値的最適化の手順\n",
        "1. **グラフの描画**：関数の全体像を把握\n",
        "2. **視覚的予想**：最大・最小の位置を大まかに特定\n",
        "3. **詳細探索**：予想した範囲を細かく刻んで数値計算\n",
        "4. **結果の検証**：理論値や他の方法と比較\n",
        "\n",
        "#### 扱った関数の種類\n",
        "- **2次関数**：頂点での最大・最小\n",
        "- **3次関数**：極値と制約条件\n",
        "- **三角関数**：周期的な最大・最小\n",
        "\n",
        "#### 重要なポイント\n",
        "- グラフを描くことで問題の理解が深まる\n",
        "- 数値的手法は複雑な問題にも適用可能\n",
        "- 制約条件（定義域）を常に意識する\n",
        "- 端点での値も忘れずに確認する\n",
        "\n",
        "### 次回予告\n",
        "\n",
        "Day 4では、データの分析について学習します。実際のデータを使って平均・分散・相関などの統計量を計算し、データの特徴を読み取る方法を学びましょう！\n",
        "\n",
        "### 提出について\n",
        "\n",
        "このノートブックに解答を記入し、保存してからGoogle Classroomに提出してください。\n",
        "\n",
        "### 参考資料\n",
        "\n",
        "- Julia Plots.jl Documentation: https://docs.juliaplots.org/\n"
      ]
    },
    {
      "cell_type": "markdown",
      "id": "83f5f47f",
      "metadata": {},
      "source": []
    }
  ],
  "metadata": {
    "colab": {
      "provenance": []
    },
    "kernelspec": {
      "display_name": "Julia 1.11.6",
      "language": "julia",
      "name": "julia-1.11"
    },
    "language_info": {
      "file_extension": ".jl",
      "mimetype": "application/julia",
      "name": "julia",
      "version": "1.11.6"
    }
  },
  "nbformat": 4,
  "nbformat_minor": 5
}
